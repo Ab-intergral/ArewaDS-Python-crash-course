{
 "cells": [
  {
   "cell_type": "markdown",
   "metadata": {},
   "source": [
    "## Exercise 8-1 Message: \n",
    "- Write a function called display_message() that prints one sentence\n",
    "  telling everyone what you are learning about in this chapter. Call the\n",
    "  function, and make sure the message displays correctly."
   ]
  },
  {
   "cell_type": "code",
   "execution_count": 16,
   "metadata": {},
   "outputs": [],
   "source": [
    "def display_message():\n",
    "    '''this function prints a message'''\n",
    "    message = \"In this chapter I am learning about functions in Python\"\n",
    "\n",
    "    print(message)\n"
   ]
  },
  {
   "cell_type": "code",
   "execution_count": 17,
   "metadata": {},
   "outputs": [
    {
     "name": "stdout",
     "output_type": "stream",
     "text": [
      "In this chapter I am learning about functions in Python\n"
     ]
    }
   ],
   "source": [
    "display_message()"
   ]
  },
  {
   "cell_type": "markdown",
   "metadata": {},
   "source": [
    "## Exercise 8-2. Favorite Book:\n",
    "- Write a function called favorite_book() that accepts one\n",
    "  parameter, title. The function should print a message, such as One of my\n",
    "  favorite books is Alice in Wonderland. Call the function, making sure to\n",
    "include a book title as an argument in the function call."
   ]
  },
  {
   "cell_type": "code",
   "execution_count": 19,
   "metadata": {},
   "outputs": [
    {
     "name": "stdout",
     "output_type": "stream",
     "text": [
      "One of my favorite books is Alice in Wonderland\n"
     ]
    }
   ],
   "source": [
    "def favorite_book(title):\n",
    "    print(f'One of my favorite books is {title}')\n",
    "\n",
    "\n",
    "favorite_book('Alice in Wonderland')"
   ]
  },
  {
   "cell_type": "markdown",
   "metadata": {},
   "source": [
    "## Exercise 8-3 T-Shirt: \n",
    "- Write a function called make_shirt() that accepts a size and the text of a message that should be printed on the shirt. The function should print a sentence summarizing the size of the shirt and the message printed on it.\n",
    "Call the function once using positional arguments to make a shirt. Call the function a second time using keyword arguments"
   ]
  },
  {
   "cell_type": "code",
   "execution_count": 24,
   "metadata": {},
   "outputs": [
    {
     "name": "stdout",
     "output_type": "stream",
     "text": [
      "The size of my shirt is 42\n",
      "The message written on it is : I am a fellow of ArewaDS\n",
      "The size of my shirt is 41\n",
      "The message written on it is : Dan asalin Adamawa\n"
     ]
    }
   ],
   "source": [
    "def make_shirt(size, message):\n",
    "    '''this function makes a t-shirt'''\n",
    "    print(f'The size of my shirt is {size}')\n",
    "    print(f'The message written on it is : {message}')\n",
    "# Using positional argument\n",
    "make_shirt(42, 'I am a fellow of ArewaDS')\n",
    "\n",
    "# using keyword argument\n",
    "make_shirt(size=41, message = 'Dan asalin Adamawa')"
   ]
  },
  {
   "cell_type": "markdown",
   "metadata": {},
   "source": [
    "## Exercise 8-4 Large Shirts: \n",
    "- Modify the make_shirt() function so that shirts are large\n",
    "by default with a message that reads I love Python. Make a large shirt and a\n",
    "medium shirt with the default message, and a shirt of any size with a different\n",
    "message."
   ]
  },
  {
   "cell_type": "code",
   "execution_count": 29,
   "metadata": {},
   "outputs": [
    {
     "name": "stdout",
     "output_type": "stream",
     "text": [
      "Size of shirt = large, Message on shirt: I love Python\n",
      "Size of shirt = Medium, Message on shirt: I love Python\n",
      "Size of shirt = Extra Large, Message on shirt: I love CSS\n"
     ]
    }
   ],
   "source": [
    "def make_shirt(size= 'large', message = 'I love Python'):\n",
    "    print(f'Size of shirt = {size}, Message on shirt: {message}')\n",
    "# dafault shirt\n",
    "make_shirt()\n",
    "# Medium shirt\n",
    "make_shirt(size = 'Medium')\n",
    "# any size shirt\n",
    "make_shirt(size = 'Extra Large', message = 'I love CSS')"
   ]
  },
  {
   "cell_type": "markdown",
   "metadata": {},
   "source": [
    "## Exercise 8-5 Cities:\n",
    "- Write a function called describe_city() that accepts the name of\n",
    "a city and its country. The function should print a simple sentence, such as\n",
    "Reykjavik is in Iceland. Give the parameter for the country a default value.\n",
    "Call your function for three different cities, at least one of which is not in the\n",
    "default country."
   ]
  },
  {
   "cell_type": "code",
   "execution_count": 39,
   "metadata": {},
   "outputs": [
    {
     "name": "stdout",
     "output_type": "stream",
     "text": [
      "Reyjavik is in Iceland\n",
      "Abuja is in Nigeria\n",
      "Lagos is in Nigeria\n",
      "Accra is in Ghana\n"
     ]
    }
   ],
   "source": [
    "def describe_city(city, country = 'Nigeria'):\n",
    "    print(f'{city} is in {country}')\n",
    "    \n",
    "\n",
    "describe_city(city = 'Reyjavik', country= 'Iceland')\n",
    "\n",
    "describe_city(city = 'Abuja')\n",
    "describe_city(city = 'Lagos')\n",
    "describe_city(city = 'Accra', country= 'Ghana')\n"
   ]
  },
  {
   "cell_type": "markdown",
   "metadata": {},
   "source": [
    "## Exercise 8-6 City Names: \n",
    "- Write a function called city_country() that takes in the name\n",
    "of a city and its country. The function should return a string formatted like this:\n",
    "\"Santiago, Chile\"\n",
    "Call your function with at least three city-country pairs, and print the values\n",
    "that are returned."
   ]
  },
  {
   "cell_type": "code",
   "execution_count": 28,
   "metadata": {},
   "outputs": [
    {
     "name": "stdout",
     "output_type": "stream",
     "text": [
      "Accra, Ghana\n",
      "Abuja, Nigeria\n",
      "New York, Usa\n"
     ]
    }
   ],
   "source": [
    "def city_country(city, country):\n",
    "    '''Takes in city name and country and prints a formatted message'''\n",
    "    return f\"{city.title()}, {country.title()}\"\n",
    "\n",
    "\n",
    "print(city_country('Accra', 'Ghana'))\n",
    "print(city_country('Abuja', 'Nigeria'))\n",
    "print(city_country('New York', 'Usa'))"
   ]
  },
  {
   "cell_type": "markdown",
   "metadata": {},
   "source": [
    "## Exercise 8-7 Album: \n",
    "- Write a function called make_album() that builds a dictionary describing a music album. The function should take in an artist name and an album title, and it should return a dictionary containing these two pieces of information. Use the function to make three dictionaries representing different albums. Print each return value to show that the dictionaries are storing the album information correctly.\n",
    "Use None to add an optional parameter to make_album() that allows you to store the number of songs on an album. If the calling line includes a value for the number of songs, add that value to the album’s dictionary. Make at least one new function call that includes the number of songs on an album."
   ]
  },
  {
   "cell_type": "code",
   "execution_count": 31,
   "metadata": {},
   "outputs": [
    {
     "name": "stdout",
     "output_type": "stream",
     "text": [
      "{'artist': 'Davido', 'title': 'Feel it'}\n",
      "{'artist': 'Rarara', 'title': 'Masu gudu su gudu'}\n",
      "{'artist': 'Ado Gwanja', 'title': 'Warrer', 'songs': 12}\n"
     ]
    }
   ],
   "source": [
    "def make_album(artist_name, album_title, number_of_songs=None):\n",
    "    '''this function creates a dictionary called album info'''\n",
    "    album_info = {\n",
    "        'artist': artist_name,\n",
    "        'title': album_title\n",
    "    }\n",
    "    if number_of_songs:\n",
    "        album_info['songs'] = number_of_songs\n",
    "    return album_info\n",
    "\n",
    "album1 = make_album('Davido', 'Feel it')\n",
    "album2 = make_album('Rarara', 'Masu gudu su gudu')\n",
    "album3 = make_album('Ado Gwanja', 'Warrer', 12)\n",
    "\n",
    "# Printing each return value to display the album information\n",
    "print(album1)\n",
    "print(album2)\n",
    "print(album3)\n"
   ]
  },
  {
   "cell_type": "markdown",
   "metadata": {},
   "source": [
    "## Exercise 8-8 User Albums: \n",
    "-Start with your program from Exercise 8-7. Write a while loop that allows users to enter an album’s artist and title. Once you have that information, call make_album() with the user’s input and print the dictionary that’s created. Be sure to include a quit value in the while loop."
   ]
  },
  {
   "cell_type": "code",
   "execution_count": 32,
   "metadata": {},
   "outputs": [
    {
     "name": "stdout",
     "output_type": "stream",
     "text": [
      "Enter 'q' at any time to quit.\n",
      "{'artist': 'ADAM A ZANZO', 'title': 'DAWO DAWO'}\n",
      "Enter 'q' at any time to quit.\n",
      "{'artist': 'SANI DANJA', 'title': 'LABARINA'}\n",
      "Enter 'q' at any time to quit.\n"
     ]
    }
   ],
   "source": [
    "def make_album(artist_name, album_title, number_of_songs=None):\n",
    "    album_info = {\n",
    "        'artist': artist_name,\n",
    "        'title': album_title\n",
    "    }\n",
    "    if number_of_songs:\n",
    "        album_info['songs'] = number_of_songs\n",
    "    return album_info\n",
    "\n",
    "while True:\n",
    "    print(\"Enter 'q' at any time to quit.\")\n",
    "    artist = input(\"Enter the artist's name: \")\n",
    "    if artist.lower() == 'q':\n",
    "        break\n",
    "    \n",
    "    title = input(\"Enter the album title: \")\n",
    "    if title.lower() == 'q':\n",
    "        break\n",
    "    \n",
    "    album = make_album(artist, title)\n",
    "    print(album)"
   ]
  },
  {
   "cell_type": "markdown",
   "metadata": {},
   "source": [
    "## Exercise 8-9. Messages: \n",
    "-Make a list containing a series of short text messages. Pass the list to a function called show_messages(), which prints each text message."
   ]
  },
  {
   "cell_type": "code",
   "execution_count": 37,
   "metadata": {},
   "outputs": [
    {
     "name": "stdout",
     "output_type": "stream",
     "text": [
      "What is your name?\n",
      "My name is Abubakar Idi\n",
      "How was your day?\n",
      "It was fine.\n"
     ]
    }
   ],
   "source": [
    "def show_messages(messages):\n",
    "    for message in messages:\n",
    "        print(message)\n",
    "\n",
    "text_messages = [\"What is your name?\", \"My name is Abubakar Idi\", \"How was your day?\", \"It was fine.\"]\n",
    "\n",
    "show_messages(text_messages)"
   ]
  },
  {
   "cell_type": "markdown",
   "metadata": {},
   "source": [
    "## Exercise 8-10. Sending Messages: \n",
    "- Start with a copy of your program from Exercise 8-9. Write a function called send_messages() that prints each text message and moves each message to a new list called sent_messages as it’s printed. After calling the function, print both of your lists to make sure the messages were moved correctly."
   ]
  },
  {
   "cell_type": "code",
   "execution_count": 38,
   "metadata": {},
   "outputs": [
    {
     "name": "stdout",
     "output_type": "stream",
     "text": [
      "What is your name?\n",
      "My name is Abubakar Idi\n",
      "How was your day?\n",
      "It was fine.\n",
      "\n",
      "Original messages:\n",
      "['What is your name?', 'My name is Abubakar Idi', 'How was your day?', 'It was fine.']\n",
      "\n",
      "Sent messages:\n",
      "['What is your name?', 'My name is Abubakar Idi', 'How was your day?', 'It was fine.']\n"
     ]
    }
   ],
   "source": [
    "def send_messages(messages):\n",
    "    sent_messages = []\n",
    "    for message in messages:\n",
    "        print(message)\n",
    "        sent_messages.append(message)\n",
    "    return sent_messages\n",
    "\n",
    "\n",
    "sent_messages = send_messages(text_messages)\n",
    "\n",
    "# Printing both lists\n",
    "print(\"\\nOriginal messages:\")\n",
    "print(text_messages)\n",
    "\n",
    "print(\"\\nSent messages:\")\n",
    "print(sent_messages)\n"
   ]
  },
  {
   "cell_type": "markdown",
   "metadata": {},
   "source": [
    "## Exercise 8-11. Archived Messages: \n",
    "- Start with your work from Exercise 8-10. Call the function send_messages() with a copy of the list of messages. After calling the function, print both of your lists to show that the original list has retained its messages."
   ]
  },
  {
   "cell_type": "code",
   "execution_count": 39,
   "metadata": {},
   "outputs": [
    {
     "name": "stdout",
     "output_type": "stream",
     "text": [
      "What is your name?\n",
      "My name is Abubakar Idi\n",
      "How was your day?\n",
      "It was fine.\n",
      "\n",
      "Original messages:\n",
      "['What is your name?', 'My name is Abubakar Idi', 'How was your day?', 'It was fine.']\n",
      "\n",
      "Sent messages:\n",
      "['What is your name?', 'My name is Abubakar Idi', 'How was your day?', 'It was fine.']\n"
     ]
    }
   ],
   "source": [
    "def send_messages(messages):\n",
    "    sent_messages = []\n",
    "    for message in messages:\n",
    "        print(message)\n",
    "        sent_messages.append(message)\n",
    "    return sent_messages\n",
    "\n",
    "copied_messages = text_messages[:]\n",
    "\n",
    "sent_messages = send_messages(copied_messages)\n",
    "\n",
    "# Printing both lists\n",
    "print(\"\\nOriginal messages:\")\n",
    "print(text_messages)\n",
    "\n",
    "print(\"\\nSent messages:\")\n",
    "print(sent_messages)"
   ]
  }
 ],
 "metadata": {
  "kernelspec": {
   "display_name": "base",
   "language": "python",
   "name": "python3"
  },
  "language_info": {
   "codemirror_mode": {
    "name": "ipython",
    "version": 3
   },
   "file_extension": ".py",
   "mimetype": "text/x-python",
   "name": "python",
   "nbconvert_exporter": "python",
   "pygments_lexer": "ipython3",
   "version": "3.11.5"
  }
 },
 "nbformat": 4,
 "nbformat_minor": 2
}
