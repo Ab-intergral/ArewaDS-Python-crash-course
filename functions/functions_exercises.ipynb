{
 "cells": [
  {
   "cell_type": "markdown",
   "metadata": {},
   "source": [
    "## Exercise 8-1 Message: \n",
    "- Write a function called display_message() that prints one sentence\n",
    "  telling everyone what you are learning about in this chapter. Call the\n",
    "  function, and make sure the message displays correctly."
   ]
  },
  {
   "cell_type": "code",
   "execution_count": 16,
   "metadata": {},
   "outputs": [],
   "source": [
    "def display_message():\n",
    "    '''this function prints a message'''\n",
    "    message = \"In this chapter I am learning about functions in Python\"\n",
    "\n",
    "    print(message)\n"
   ]
  },
  {
   "cell_type": "code",
   "execution_count": 17,
   "metadata": {},
   "outputs": [
    {
     "name": "stdout",
     "output_type": "stream",
     "text": [
      "In this chapter I am learning about functions in Python\n"
     ]
    }
   ],
   "source": [
    "display_message()"
   ]
  },
  {
   "cell_type": "markdown",
   "metadata": {},
   "source": [
    "## Exercise 8-2. Favorite Book:\n",
    "- Write a function called favorite_book() that accepts one\n",
    "  parameter, title. The function should print a message, such as One of my\n",
    "  favorite books is Alice in Wonderland. Call the function, making sure to\n",
    "include a book title as an argument in the function call."
   ]
  },
  {
   "cell_type": "code",
   "execution_count": 19,
   "metadata": {},
   "outputs": [
    {
     "name": "stdout",
     "output_type": "stream",
     "text": [
      "One of my favorite books is Alice in Wonderland\n"
     ]
    }
   ],
   "source": [
    "def favorite_book(title):\n",
    "    print(f'One of my favorite books is {title}')\n",
    "\n",
    "\n",
    "favorite_book('Alice in Wonderland')"
   ]
  },
  {
   "cell_type": "markdown",
   "metadata": {},
   "source": [
    "## Exercise 8-3 T-Shirt: \n",
    "- Write a function called make_shirt() that accepts a size and the text of a message that should be printed on the shirt. The function should print a sentence summarizing the size of the shirt and the message printed on it.\n",
    "Call the function once using positional arguments to make a shirt. Call the function a second time using keyword arguments"
   ]
  },
  {
   "cell_type": "code",
   "execution_count": 24,
   "metadata": {},
   "outputs": [
    {
     "name": "stdout",
     "output_type": "stream",
     "text": [
      "The size of my shirt is 42\n",
      "The message written on it is : I am a fellow of ArewaDS\n",
      "The size of my shirt is 41\n",
      "The message written on it is : Dan asalin Adamawa\n"
     ]
    }
   ],
   "source": [
    "def make_shirt(size, message):\n",
    "    '''this function makes a t-shirt'''\n",
    "    print(f'The size of my shirt is {size}')\n",
    "    print(f'The message written on it is : {message}')\n",
    "# Using positional argument\n",
    "make_shirt(42, 'I am a fellow of ArewaDS')\n",
    "\n",
    "# using keyword argument\n",
    "make_shirt(size=41, message = 'Dan asalin Adamawa')"
   ]
  },
  {
   "cell_type": "markdown",
   "metadata": {},
   "source": [
    "## Exercise 8-4 Large Shirts: \n",
    "- Modify the make_shirt() function so that shirts are large\n",
    "by default with a message that reads I love Python. Make a large shirt and a\n",
    "medium shirt with the default message, and a shirt of any size with a different\n",
    "message."
   ]
  },
  {
   "cell_type": "code",
   "execution_count": 29,
   "metadata": {},
   "outputs": [
    {
     "name": "stdout",
     "output_type": "stream",
     "text": [
      "Size of shirt = large, Message on shirt: I love Python\n",
      "Size of shirt = Medium, Message on shirt: I love Python\n",
      "Size of shirt = Extra Large, Message on shirt: I love CSS\n"
     ]
    }
   ],
   "source": [
    "def make_shirt(size= 'large', message = 'I love Python'):\n",
    "    print(f'Size of shirt = {size}, Message on shirt: {message}')\n",
    "# dafault shirt\n",
    "make_shirt()\n",
    "# Medium shirt\n",
    "make_shirt(size = 'Medium')\n",
    "# any size shirt\n",
    "make_shirt(size = 'Extra Large', message = 'I love CSS')"
   ]
  }
 ],
 "metadata": {
  "kernelspec": {
   "display_name": "base",
   "language": "python",
   "name": "python3"
  },
  "language_info": {
   "codemirror_mode": {
    "name": "ipython",
    "version": 3
   },
   "file_extension": ".py",
   "mimetype": "text/x-python",
   "name": "python",
   "nbconvert_exporter": "python",
   "pygments_lexer": "ipython3",
   "version": "3.11.5"
  }
 },
 "nbformat": 4,
 "nbformat_minor": 2
}
